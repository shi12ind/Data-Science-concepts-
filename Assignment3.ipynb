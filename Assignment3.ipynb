{
 "cells": [
  {
   "cell_type": "code",
   "execution_count": 7,
   "id": "2cf7b9d3-8e0c-48de-b5a1-af2de2202cfa",
   "metadata": {},
   "outputs": [
    {
     "name": "stdin",
     "output_type": "stream",
     "text": [
      "Enter a number:  12\n"
     ]
    },
    {
     "name": "stdout",
     "output_type": "stream",
     "text": [
      "12 is not a prime number.\n"
     ]
    }
   ],
   "source": [
    "# Exercise 1: Prime Numbers\n",
    "\n",
    "def is_prime(number):\n",
    "# Prime numbers must be greater than 1, so any number <= 1 is not prime.\n",
    "    if number <= 1:\n",
    "        return False\n",
    "    # The number 2 is a prime number (smallest prime and only even prime), so return True for 2.\n",
    "    if number == 2:\n",
    "        return True  \n",
    "    # If the number is even and not 2, it cannot be prime. Even numbers greater than 2 are not prime.\n",
    "    if number % 2 == 0:\n",
    "        return False  \n",
    "    # We skip even numbers (already handled by the above check), so we start at 3 and step by 2 (odd numbers).\n",
    "    for i in range(3, int(number**0.5) + 1, 2):\n",
    "        # If the number is divisible by any number in this range, it is not prime.\n",
    "        if number % i == 0:\n",
    "            return False\n",
    "    return True\n",
    "# Get input from the user to check whether the entered number is prime or not\n",
    "number = int(input(\"Enter a number: \"))\n",
    "\n",
    "# Call the is_prime function\n",
    "if is_prime(number):\n",
    "    print(f\"{number} is a prime number.\")\n",
    "else:\n",
    "    print(f\"{number} is not a prime number.\")\n"
   ]
  },
  {
   "cell_type": "code",
   "execution_count": 9,
   "id": "054cf364-693f-4fee-8f98-0ae26fb23c05",
   "metadata": {},
   "outputs": [
    {
     "name": "stdin",
     "output_type": "stream",
     "text": [
      "What is 6 * 3?  12\n"
     ]
    },
    {
     "name": "stdout",
     "output_type": "stream",
     "text": [
      "Incorrect. The correct answer is 18.\n"
     ]
    }
   ],
   "source": [
    "#Exercise 2: Product of Random Numbers\n",
    "\n",
    "import random\n",
    "def multiplication_quiz():\n",
    "    # Generate two random numbers between 1 and 10 using random.randint().\n",
    "    num1 = random.randint(1, 10)\n",
    "    num2 = random.randint(1, 10)\n",
    "    correct_answer = num1 * num2\n",
    "    # The input function takes a string prompt and returns a value, which is then converted to an integer using int().\n",
    "    user_answer = int(input(f\"What is {num1} * {num2}? \"))\n",
    "    # Compare the user's answer with the correct answer.\n",
    "    if user_answer == correct_answer:\n",
    "        # If the user's answer matches the correct answer, print a success message.\n",
    "        print(\"Correct! Well done.\")\n",
    "    else:\n",
    "        # If the user's answer is incorrect, display the correct answer.\n",
    "        print(f\"Incorrect. The correct answer is {correct_answer}.\")\n",
    "\n",
    "# Call the function to start the quiz.\n",
    "multiplication_quiz()"
   ]
  },
  {
   "cell_type": "code",
   "execution_count": null,
   "id": "92504d92-1cb9-4f09-8bfc-6cea49e04909",
   "metadata": {},
   "outputs": [],
   "source": [
    "# Exercise 3: Squares of Even/Odd Numbers\n",
    "\n",
    "num = int(input(\"Enter a number (this input is not used in the loop): \"))\n",
    "for i in range(100, 200):\n",
    "    if i % 2 == 0:\n",
    "        print(f\"{i} is even, and the square of the number is: {i ** 2}\")\n",
    "    else:\n",
    "        print(f\"{i} is odd, and the square of the number is: {i ** 2}\")\n"
   ]
  },
  {
   "cell_type": "code",
   "execution_count": 17,
   "id": "b2e2769c-e069-46c4-b6e3-18e177782df1",
   "metadata": {},
   "outputs": [],
   "source": [
    "#Exercise 4: Word counter\n",
    "def count_words(input_text):\n",
    "    input_text = input_text.lower()\n",
    "    words = input_text.split()\n",
    "    word_count = {}\n",
    "    for word in words:\n",
    "        if word in word_count:\n",
    "            word_count[word] += 1\n",
    "        else:\n",
    "            word_count[word] = 1\n",
    "    return word_count\n",
    "input_text = \"This is a sample text. This text will be used to demonstrate the word counter.\"\n",
    "word_count = count_words(input_text)\n",
    "for word, count in word_count.items():\n",
    "    print(f\"'{word}': {count}\")"
   ]
  },
  {
   "cell_type": "code",
   "execution_count": 15,
   "id": "d60374a8-5017-4fdc-a80e-6d5850f616fe",
   "metadata": {},
   "outputs": [
    {
     "data": {
      "text/plain": [
       "True"
      ]
     },
     "execution_count": 15,
     "metadata": {},
     "output_type": "execute_result"
    }
   ],
   "source": [
    "#Exercise 5: Check for Palindrome\n",
    "\n",
    "# The function will ignore spaces, punctuation, and capitalization.\n",
    "import string\n",
    "def is_palindrome(s):\n",
    "    # Normalize the string: remove punctuation, convert to lowercase, and remove spaces\n",
    "    normalized_str = ''.join(char.lower() for char in s if char.isalnum())\n",
    "    # Check if the normalized string is the same forwards and backwards\n",
    "    return normalized_str == normalized_str[::-1]\n",
    "# Example test case\n",
    "input_string = \"racecar\"\n",
    "output = is_palindrome(input_string)\n",
    "output\n"
   ]
  },
  {
   "cell_type": "code",
   "execution_count": null,
   "id": "ab9c3efa-427c-42f6-bfc8-a69b89520ee7",
   "metadata": {},
   "outputs": [],
   "source": []
  }
 ],
 "metadata": {
  "kernelspec": {
   "display_name": "Python 3 (ipykernel)",
   "language": "python",
   "name": "python3"
  },
  "language_info": {
   "codemirror_mode": {
    "name": "ipython",
    "version": 3
   },
   "file_extension": ".py",
   "mimetype": "text/x-python",
   "name": "python",
   "nbconvert_exporter": "python",
   "pygments_lexer": "ipython3",
   "version": "3.12.4"
  }
 },
 "nbformat": 4,
 "nbformat_minor": 5
}
